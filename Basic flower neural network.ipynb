{
 "cells": [
  {
   "cell_type": "code",
   "execution_count": 1,
   "metadata": {},
   "outputs": [],
   "source": [
    "#This program trains a forward propogating neural network to determine if a flower is red or blue, given it's length and width."
   ]
  },
  {
   "cell_type": "code",
   "execution_count": 2,
   "metadata": {},
   "outputs": [],
   "source": [
    "%matplotlib inline"
   ]
  },
  {
   "cell_type": "code",
   "execution_count": 3,
   "metadata": {},
   "outputs": [],
   "source": [
    "from matplotlib import pyplot as plt #Used for plotting\n",
    "import numpy as np #Only used for generating random number"
   ]
  },
  {
   "cell_type": "code",
   "execution_count": 4,
   "metadata": {},
   "outputs": [],
   "source": [
    "#[Length, width, flower colour (1 = Red, 0 = Blue)]\n",
    "\n",
    "data = [[3,   1,   1],\n",
    "        [2,   1.5, 0],\n",
    "        [4,   1.5, 1],\n",
    "        [1.5,   2, 0],\n",
    "        [3.5, .5,  1],\n",
    "        [2,   .5,  0],\n",
    "        [4.5,  1,  1],\n",
    "        [1,    1,  0],]"
   ]
  },
  {
   "cell_type": "code",
   "execution_count": 5,
   "metadata": {},
   "outputs": [],
   "source": [
    "#Sigmoid function\n",
    "def sigmoid(x):\n",
    "    return 1/(1+ np.exp(-x))\n",
    "\n",
    "#Sigmoid prime function\n",
    "def sigmoid_p(x):\n",
    "    return sigmoid(x) * (1-sigmoid(x))"
   ]
  },
  {
   "cell_type": "code",
   "execution_count": 6,
   "metadata": {},
   "outputs": [
    {
     "data": {
      "image/png": "[encoded data removed]",
      "text/plain": [
       "<Figure size 432x288 with 1 Axes>"
      ]
     },
     "metadata": {
      "needs_background": "light"
     },
     "output_type": "display_data"
    }
   ],
   "source": [
    "#Plot data on scatterplot\n",
    "def plot_data():\n",
    "    plt.grid()\n",
    "\n",
    "    for i in range(len(data)):\n",
    "        c = 'r'\n",
    "        if data[i][2] == 0:\n",
    "            c = 'b'\n",
    "        plt.scatter([data[i][0]], [data[i][1]], c=c)\n",
    "\n",
    "plot_data()"
   ]
  },
  {
   "cell_type": "code",
   "execution_count": 7,
   "metadata": {},
   "outputs": [],
   "source": [
    "#Randomly initialize weights and bias\n",
    "w1 = np.random.randn() \n",
    "w2 = np.random.randn()\n",
    "b = np.random.randn()"
   ]
  },
  {
   "cell_type": "code",
   "execution_count": 8,
   "metadata": {},
   "outputs": [],
   "source": [
    "#Setup lists which will be graphed later\n",
    "costs = []\n",
    "w1_values = []\n",
    "w2_values = []\n",
    "b_values = []"
   ]
  },
  {
   "cell_type": "code",
   "execution_count": 9,
   "metadata": {},
   "outputs": [],
   "source": [
    "#Sets iterations and learning rate\n",
    "iterations = 50000\n",
    "learning_rate = 0.1"
   ]
  },
  {
   "cell_type": "code",
   "execution_count": 10,
   "metadata": {},
   "outputs": [],
   "source": [
    "#Training loop\n",
    "for i in range(iterations):\n",
    "    \n",
    "    #Pick a random flower from our data set\n",
    "    ri = np.random.randint(len(data))\n",
    "    point = data[ri]\n",
    "    \n",
    "    #Get it's activations (ie it's length(a1) and width(a2))\n",
    "    a1 = point[0]\n",
    "    a2 = point[1]\n",
    "    \n",
    "    #Compute the weighted sum\n",
    "    weighted_sum = a1*w1 + a2*w2\n",
    "    \n",
    "    #Add a bias\n",
    "    z = weighted_sum + b\n",
    "    \n",
    "    #Squish this so it's between 0 and 1 : This is our prediction\n",
    "    a = sigmoid(z)\n",
    "    \n",
    "    #Calculate squared cost\n",
    "    target = point[2]\n",
    "    cost = np.square(a - target)\n",
    "        \n",
    "    #How does cost change as we change w1\n",
    "    dcost_da = 2*(a - target)\n",
    "    da_dz = sigmoid_p(z)\n",
    "    dz_dw1 = a1\n",
    "    dcost_dw1 = dz_dw1 * da_dz * dcost_da\n",
    "    \n",
    "    #How does cost change as we change w2\n",
    "    dz_dw2 = a2\n",
    "    dcost_dw2 = dz_dw2 * da_dz * dcost_da\n",
    "    \n",
    "    #How does cost change as we change b\n",
    "    dz_db = 1\n",
    "    dcost_db = dcost_da * da_dz * dz_db\n",
    "    \n",
    "    #Back propogation\n",
    "    w1 = w1 - learning_rate * dcost_dw1\n",
    "    w2 = w2 - learning_rate * dcost_dw2\n",
    "    b = b - learning_rate * dcost_db\n",
    "    \n",
    "    w1_values.append(w1)\n",
    "    w2_values.append(w2)\n",
    "    b_values.append(b)\n",
    "   \n",
    "    #For every 100 itterations\n",
    "    if i % 100 == 0:\n",
    "        cost_sum = 0\n",
    "    \n",
    "        #Calculate the cost of every datapoint\n",
    "        for j in range(len(data)):\n",
    "\n",
    "            point = data[j]\n",
    "\n",
    "            z = point[0]*w1 + point[1]*w2 + b\n",
    "            a = sigmoid(z)\n",
    "\n",
    "            target = point[2]\n",
    "            cost_sum += np.square(a - target)\n",
    "            \n",
    "    #Append the average to the costs list\n",
    "    costs.append(cost_sum / len(data))"
   ]
  },
  {
   "cell_type": "code",
   "execution_count": 11,
   "metadata": {},
   "outputs": [
    {
     "data": {
      "text/plain": [
       "[<matplotlib.lines.Line2D at 0x248f9270e48>]"
      ]
     },
     "execution_count": 11,
     "metadata": {},
     "output_type": "execute_result"
    },
    {
     "data": {
      "image/png": "[encoded data removed]",
      "text/plain": [
       "<Figure size 432x288 with 1 Axes>"
      ]
     },
     "metadata": {
      "needs_background": "light"
     },
     "output_type": "display_data"
    }
   ],
   "source": [
    "#Shows how the cost is lowering (ie Becoming more accurate)\n",
    "plt.xlabel('Itteration', fontsize=18)\n",
    "plt.ylabel('Cost', fontsize=18)\n",
    "plt.plot(costs, c = 'r')"
   ]
  },
  {
   "cell_type": "code",
   "execution_count": 12,
   "metadata": {},
   "outputs": [
    {
     "data": {
      "text/plain": [
       "<matplotlib.legend.Legend at 0x248f92f49c8>"
      ]
     },
     "execution_count": 12,
     "metadata": {},
     "output_type": "execute_result"
    },
    {
     "data": {
      "image/png": "[encoded data removed]",
      "text/plain": [
       "<Figure size 432x288 with 1 Axes>"
      ]
     },
     "metadata": {
      "needs_background": "light"
     },
     "output_type": "display_data"
    }
   ],
   "source": [
    "#Shows the values w1,w2 and b are tending towards\n",
    "plt.plot(w1_values, c = 'b', label = 'w1')\n",
    "plt.plot(w2_values, c = 'g', label = 'w2')\n",
    "plt.plot(b_values, c = 'y', label = 'b')\n",
    "plt.xlabel('Itteration', fontsize=18)\n",
    "plt.ylabel('Value', fontsize=18)\n",
    "plt.legend(loc=\"lower left\")"
   ]
  },
  {
   "cell_type": "code",
   "execution_count": 13,
   "metadata": {},
   "outputs": [],
   "source": [
    "#Predicts what colour the flower will be, given is length and width\n",
    "def what_flower(length, width):\n",
    "    \n",
    "    z = length*w1 + width*w2 + b\n",
    "    a = sigmoid(z)\n",
    "    \n",
    "    how_sure = None\n",
    "    \n",
    "    if a < 0.5:\n",
    "        print(\"Blue\")\n",
    "        how_sure = round((1 - a)*100)\n",
    "    else:\n",
    "        print(\"Red\")\n",
    "        how_sure = round(a*100)\n",
    " \n",
    "    print(\"{}% sure\".format(how_sure))"
   ]
  },
  {
   "cell_type": "code",
   "execution_count": 14,
   "metadata": {},
   "outputs": [
    {
     "data": {
      "image/png": "[encoded data removed]",
      "text/plain": [
       "<Figure size 432x288 with 1 Axes>"
      ]
     },
     "metadata": {
      "needs_background": "light"
     },
     "output_type": "display_data"
    }
   ],
   "source": [
    "#Graphs the boundary line on data\n",
    "for x in np.linspace(0, 6, 30):\n",
    "    for y in np.linspace(0, 3, 30):\n",
    "        a = sigmoid(w1*x + w2*y + b)\n",
    "        c = 'b'\n",
    "        if a > .5:\n",
    "            c = 'r'\n",
    "        plt.scatter([x],[y],c=c, alpha=.2)\n",
    "plot_data()"
   ]
  },
  {
   "cell_type": "code",
   "execution_count": 15,
   "metadata": {},
   "outputs": [
    {
     "name": "stdout",
     "output_type": "stream",
     "text": [
      "Red\n",
      "95.0% sure\n"
     ]
    }
   ],
   "source": [
    "#Makes prediction on mystery flower\n",
    "what_flower(3,0.5)"
   ]
  }
 ],
 "metadata": {
  "kernelspec": {
   "display_name": "Python 3",
   "language": "python",
   "name": "python3"
  },
  "language_info": {
   "codemirror_mode": {
    "name": "ipython",
    "version": 3
   },
   "file_extension": ".py",
   "mimetype": "text/x-python",
   "name": "python",
   "nbconvert_exporter": "python",
   "pygments_lexer": "ipython3",
   "version": "3.7.4"
  }
 },
 "nbformat": 4,
 "nbformat_minor": 2
}
